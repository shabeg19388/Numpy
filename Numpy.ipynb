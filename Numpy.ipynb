{
 "cells": [
  {
   "cell_type": "markdown",
   "metadata": {},
   "source": [
    "# Basics of Numpy"
   ]
  },
  {
   "cell_type": "code",
   "execution_count": 6,
   "metadata": {},
   "outputs": [
    {
     "name": "stdout",
     "output_type": "stream",
     "text": [
      "[1 2 3 4 5]\n",
      "<class 'numpy.ndarray'>\n"
     ]
    },
    {
     "data": {
      "text/plain": [
       "1"
      ]
     },
     "execution_count": 6,
     "metadata": {},
     "output_type": "execute_result"
    }
   ],
   "source": [
    "#importing \n",
    "import numpy as np\n",
    "\n",
    "#creating array \n",
    "a=np.array([1,2,3,4,5])\n",
    "print(a)\n",
    "#type of data \n",
    "print(type(a))\n",
    "#accessing first \n",
    "a[0]"
   ]
  },
  {
   "cell_type": "code",
   "execution_count": 3,
   "metadata": {},
   "outputs": [
    {
     "name": "stdout",
     "output_type": "stream",
     "text": [
      "(5,)\n"
     ]
    }
   ],
   "source": [
    "print(a.shape) #dimensions of array - 5 columns , 0 rows - 3  dimesnional array is possible as well "
   ]
  },
  {
   "cell_type": "code",
   "execution_count": 5,
   "metadata": {},
   "outputs": [
    {
     "name": "stdout",
     "output_type": "stream",
     "text": [
      "[[1]\n",
      " [2]\n",
      " [3]\n",
      " [4]\n",
      " [5]]\n",
      "(5, 1)\n"
     ]
    },
    {
     "data": {
      "text/plain": [
       "1"
      ]
     },
     "execution_count": 5,
     "metadata": {},
     "output_type": "execute_result"
    }
   ],
   "source": [
    "b=np.array([[1], [2], [3], [4], [5]]) #2d matrix \n",
    "print(b)\n",
    "print(b.shape) #type of shape \n",
    "b[0][0]"
   ]
  },
  {
   "cell_type": "code",
   "execution_count": 7,
   "metadata": {},
   "outputs": [
    {
     "name": "stdout",
     "output_type": "stream",
     "text": [
      "[[1 2 3]\n",
      " [4 5 6]]\n",
      "(2, 3)\n",
      "5\n"
     ]
    }
   ],
   "source": [
    "c= np.array([[1,2,3], [4,5,6]])\n",
    "print(c)\n",
    "print(c.shape) #type of shape \n",
    "print(c[1][1]) #1st row, 1st col element "
   ]
  },
  {
   "cell_type": "code",
   "execution_count": 14,
   "metadata": {},
   "outputs": [
    {
     "name": "stdout",
     "output_type": "stream",
     "text": [
      "[[0. 0. 0.]\n",
      " [0. 0. 0.]\n",
      " [0. 0. 0.]]\n",
      "<class 'numpy.ndarray'>\n",
      "[[1. 1. 1.]\n",
      " [1. 1. 1.]]\n",
      "[[5 5]\n",
      " [5 5]\n",
      " [5 5]]\n",
      "[[1. 0. 0. 0.]\n",
      " [0. 1. 0. 0.]\n",
      " [0. 0. 1. 0.]\n",
      " [0. 0. 0. 1.]]\n",
      "[[0.86076555 0.48572729 0.80418751]\n",
      " [0.95577874 0.78149504 0.68519059]]\n"
     ]
    }
   ],
   "source": [
    "a=np.zeros((3,3)) #creating a 3*3 matrix of zeros \n",
    "print(a)\n",
    "print(type(a))\n",
    "b=np.ones((2,3)) #creating a 2*3 matrix of ones \n",
    "print(b)\n",
    "\n",
    "#array of some constant \n",
    "c=np.full((3,2), 5) #filling the matrix with all elements as 5 \n",
    "print(c)\n",
    "\n",
    "#identity matrix - size/square matrix \n",
    "d=np.eye(4) #for identity matrix \n",
    "print(d)\n",
    "\n",
    "#random matrix - generates random matrix \n",
    "randommat=np.random.random((2,3)) \n",
    "print(randommat)\n",
    "\n"
   ]
  },
  {
   "cell_type": "code",
   "execution_count": 18,
   "metadata": {},
   "outputs": [
    {
     "name": "stdout",
     "output_type": "stream",
     "text": [
      "[0.86076555 0.95577874]\n"
     ]
    }
   ],
   "source": [
    "#reading elements of rand matrix \n",
    "print(randommat[ :,0 ]) #prints first column "
   ]
  },
  {
   "cell_type": "code",
   "execution_count": 19,
   "metadata": {},
   "outputs": [
    {
     "name": "stdout",
     "output_type": "stream",
     "text": [
      "[[0.86076555 0.48572729 0.80418751]\n",
      " [0.95577874 1.         1.        ]]\n"
     ]
    }
   ],
   "source": [
    "#updating an element \n",
    "randommat[1,1:]=1 #1st row , last 2 columns\n",
    "print(randommat)"
   ]
  },
  {
   "cell_type": "code",
   "execution_count": 34,
   "metadata": {},
   "outputs": [
    {
     "name": "stdout",
     "output_type": "stream",
     "text": [
      "[[0 0 0]\n",
      " [0 0 0]\n",
      " [0 0 0]]\n",
      "[[0 0 7]\n",
      " [5 5 7]\n",
      " [0 0 7]]\n"
     ]
    }
   ],
   "source": [
    "#setting rows and columns \n",
    "\n",
    "z= np.zeros((3,3), dtype=np.int64) #changing data type from float to int \n",
    "print(z)\n",
    "z[1,:]=5\n",
    "z[2,2:3]=2\n",
    "z[:,-1]=7\n",
    "print(z)"
   ]
  },
  {
   "cell_type": "code",
   "execution_count": 35,
   "metadata": {},
   "outputs": [
    {
     "name": "stdout",
     "output_type": "stream",
     "text": [
      "int64\n"
     ]
    }
   ],
   "source": [
    "#data types \n",
    "\n",
    "print(z.dtype)"
   ]
  },
  {
   "cell_type": "markdown",
   "metadata": {},
   "source": [
    "# Mathematical Operations"
   ]
  },
  {
   "cell_type": "code",
   "execution_count": 40,
   "metadata": {},
   "outputs": [
    {
     "name": "stdout",
     "output_type": "stream",
     "text": [
      "[[1 2]\n",
      " [3 4]]\n",
      " \n",
      "[[5 6]\n",
      " [7 8]]\n",
      " \n",
      "[[ 6  8]\n",
      " [10 12]]\n",
      " \n",
      "[[ 6  8]\n",
      " [10 12]]\n",
      " \n",
      "[[-4 -4]\n",
      " [-4 -4]]\n"
     ]
    }
   ],
   "source": [
    "#math operations \n",
    "x= np.array([[1,2],[3,4]])\n",
    "y=np.array([[5,6] ,[7,8]])\n",
    "print(x)\n",
    "print(\" \")\n",
    "print(y)\n",
    "print(\" \")\n",
    "print(x+y)\n",
    "print(\" \")\n",
    "print(np.add(x,y))\n",
    "print(\" \")\n",
    "print(np.subtract(x,y))\n",
    "#both add operations give same result "
   ]
  },
  {
   "cell_type": "code",
   "execution_count": 42,
   "metadata": {},
   "outputs": [
    {
     "name": "stdout",
     "output_type": "stream",
     "text": [
      "[[ 5 12]\n",
      " [21 32]]\n",
      " \n",
      "[[ 5 12]\n",
      " [21 32]]\n",
      " \n",
      "[[0.2        0.33333333]\n",
      " [0.42857143 0.5       ]]\n",
      " \n",
      "[[0.2        0.33333333]\n",
      " [0.42857143 0.5       ]]\n"
     ]
    }
   ],
   "source": [
    "#multiplaction and division \n",
    "print(x*y)\n",
    "print(\" \")\n",
    "print(np.multiply(x,y))\n",
    "print(\" \")\n",
    "print(x/y)\n",
    "print(\" \")\n",
    "print(np.divide(x,y))\n",
    "\n",
    "#this is element wise multiplcation and divison, not dot product "
   ]
  },
  {
   "cell_type": "code",
   "execution_count": 43,
   "metadata": {},
   "outputs": [
    {
     "name": "stdout",
     "output_type": "stream",
     "text": [
      "[[1.         1.41421356]\n",
      " [1.73205081 2.        ]]\n"
     ]
    }
   ],
   "source": [
    "print(np.sqrt(x)) #square root "
   ]
  },
  {
   "cell_type": "code",
   "execution_count": 46,
   "metadata": {},
   "outputs": [
    {
     "name": "stdout",
     "output_type": "stream",
     "text": [
      "[[1 2]\n",
      " [3 4]] [[5 6]\n",
      " [7 8]]\n",
      " \n",
      "[[5 6]\n",
      " [7 8]]\n",
      " \n",
      "[[19 22]\n",
      " [43 50]]\n",
      " \n",
      "[[19 22]\n",
      " [43 50]]\n"
     ]
    }
   ],
   "source": [
    "#matrix multiplication and dot products \n",
    "print(x,y)\n",
    "print(\" \")\n",
    "print(y)\n",
    "print(\" \")\n",
    "print(x.dot(y))  #dot product \n",
    "print(\" \")\n",
    "#or \n",
    "print(np.dot(x,y)) #dot product 2nd method "
   ]
  },
  {
   "cell_type": "code",
   "execution_count": 49,
   "metadata": {},
   "outputs": [
    {
     "name": "stdout",
     "output_type": "stream",
     "text": [
      "30\n"
     ]
    }
   ],
   "source": [
    "#multiplication of vector - linear array \n",
    "a=np.array([1,2,3,4])\n",
    "b=np.array([1,2,3,4])\n",
    "print(a.dot(b))\n",
    "\n",
    "#[1 2 3 4] [1]                 #this is vector muliplication \n",
    " #         [2]\n",
    "  #        [3]\n",
    "   #       [4] \n",
    " "
   ]
  },
  {
   "cell_type": "code",
   "execution_count": 54,
   "metadata": {},
   "outputs": [
    {
     "name": "stdout",
     "output_type": "stream",
     "text": [
      "[1 2 3 4]\n",
      "10\n",
      "10\n",
      "10\n"
     ]
    }
   ],
   "source": [
    "#sum of elements \n",
    "print(a)\n",
    "print(sum(a))\n",
    "#or\n",
    "print(np.sum(a))\n",
    " \n"
   ]
  },
  {
   "cell_type": "code",
   "execution_count": 60,
   "metadata": {},
   "outputs": [
    {
     "name": "stdout",
     "output_type": "stream",
     "text": [
      "[[1 2]\n",
      " [3 4]]\n",
      " \n",
      "[4 6]\n",
      " \n",
      "[3 7]\n"
     ]
    }
   ],
   "source": [
    "print(x)\n",
    "print(\" \")\n",
    "print(np.sum(x,axis=0))\n",
    "#axis is optional parameter, takes sum to be sum of elem along \n",
    "#the columns \n",
    "#1+3=4\n",
    "#4+2=6\n",
    "\n",
    "print(\" \")\n",
    "\n",
    "print(np.sum(x,axis=1)) \n",
    "#axis is optional parameter, takes sum to be sum of elem along \n",
    "#the rows \n",
    "#1+2=3\n",
    "#4+3=7\n",
    "\n"
   ]
  },
  {
   "cell_type": "markdown",
   "metadata": {},
   "source": [
    "# Stacking"
   ]
  },
  {
   "cell_type": "code",
   "execution_count": 70,
   "metadata": {},
   "outputs": [
    {
     "name": "stdout",
     "output_type": "stream",
     "text": [
      "[1 2 3 4]\n",
      "[1 2 3 4]\n",
      " \n",
      "[2 4 6 8]\n"
     ]
    }
   ],
   "source": [
    "#stacking of arrays\n",
    "\n",
    "aa=np.array([1,2,3,4])\n",
    "bb=np.array([1,2,3,4])\n",
    "print(aa)\n",
    "#print(bb)\n",
    "\n",
    "print(\" \")\n",
    "\n",
    "bb=bb*2\n",
    "print(bb)"
   ]
  },
  {
   "cell_type": "markdown",
   "metadata": {},
   "source": [
    "# Concatenation"
   ]
  },
  {
   "cell_type": "code",
   "execution_count": 79,
   "metadata": {},
   "outputs": [
    {
     "name": "stdout",
     "output_type": "stream",
     "text": [
      " \n",
      "[[1 2 3 4]\n",
      " [2 4 6 8]]\n"
     ]
    }
   ],
   "source": [
    "#concatenating arrays \n",
    "np.stack((aa,bb),axis=1) #along rows \n",
    "\n",
    "print(\" \")\n",
    "\n",
    "a=np.stack((aa,bb), axis=0) #along columns \n",
    "print(a)"
   ]
  },
  {
   "cell_type": "markdown",
   "metadata": {},
   "source": [
    "# Shaping and Reshaping "
   ]
  },
  {
   "cell_type": "code",
   "execution_count": 88,
   "metadata": {},
   "outputs": [
    {
     "name": "stdout",
     "output_type": "stream",
     "text": [
      "[[1 2]\n",
      " [3 4]\n",
      " [2 4]\n",
      " [6 8]]\n",
      " \n",
      "[[1]\n",
      " [2]\n",
      " [3]\n",
      " [4]\n",
      " [2]\n",
      " [4]\n",
      " [6]\n",
      " [8]]\n",
      " \n",
      "[1 2 3 4 2 4 6 8]\n",
      " \n",
      "[[1 2]\n",
      " [3 4]\n",
      " [2 4]\n",
      " [6 8]]\n"
     ]
    }
   ],
   "source": [
    "#Reshape a numpy array \n",
    "\n",
    "#print(a)\n",
    "#changing shape to 4 rows 2 columns \n",
    "\n",
    "a=a.reshape((4,2))\n",
    "print(a)\n",
    "\n",
    "#now it has 4 rows and 2 columns, shape has been changed i.e. \n",
    "#dimensions are changed now \n",
    "\n",
    "print(\" \")\n",
    "\n",
    "cc=a.reshape((8,1))\n",
    "print(cc)\n",
    "\n",
    "print(\" \")\n",
    "\n",
    "dd= a.reshape((8,)) #gives linear array \n",
    "print(dd)\n",
    "\n",
    "#if you do not want to calculate the number of columns\n",
    "#here number of cols are automatically generated\n",
    "\n",
    "print(\" \")\n",
    "ee= a.reshape((4,-1))\n",
    "#or \n",
    "#ee= a.reshape((-1,4)) #if you dont know number of rows \n",
    "#automatically calculated then \n",
    "print(ee)"
   ]
  },
  {
   "cell_type": "markdown",
   "metadata": {},
   "source": [
    "# Numpy Random Module"
   ]
  },
  {
   "cell_type": "markdown",
   "metadata": {},
   "source": [
    "rand: random values in a given shape \n",
    "randn: return a sample from the 'standard normal ' distribution \n",
    "randint: return random integers from low(inclusive) to high (exclusive)\n",
    "random: return random floats in the half open interval- [0.0,1.0)\n",
    "\n",
    "choice: generates a random shuffle from a given 1-D array \n",
    "\n",
    "shuffle: shuffles the contents of a sequence "
   ]
  },
  {
   "cell_type": "code",
   "execution_count": 91,
   "metadata": {},
   "outputs": [
    {
     "name": "stdout",
     "output_type": "stream",
     "text": [
      "[0 1 2 3 4 5 6 7 8 9]\n"
     ]
    }
   ],
   "source": [
    "a= np.arange(10) #arranges numbers from 1 to 10 in an array \n",
    "print(a)\n",
    "\n"
   ]
  },
  {
   "cell_type": "code",
   "execution_count": 98,
   "metadata": {},
   "outputs": [
    {
     "name": "stdout",
     "output_type": "stream",
     "text": [
      "[5 2 8 0 3 6 4 1 9 7]\n"
     ]
    }
   ],
   "source": [
    "import random\n",
    "#import np.randome as n\n",
    "\n",
    "np.random.seed(1) # done in order to ensure you get the same \n",
    "#set of randome values every time , pesuodrandom\n",
    "np.random.shuffle(a) #shuffling elements of array\n",
    "print(a)\n",
    "\n"
   ]
  },
  {
   "cell_type": "code",
   "execution_count": 104,
   "metadata": {},
   "outputs": [
    {
     "name": "stdout",
     "output_type": "stream",
     "text": [
      "[[ 0.15633654  0.95765256 -0.47452742]\n",
      " [-0.53082286 -0.2556854   1.00990117]]\n"
     ]
    }
   ],
   "source": [
    "#returns values from a standard normal distribution \n",
    "a=np.random.randn(2,3)\n",
    "print(a) #random values in a 2*3 array, 2 rows and 3 columns \n"
   ]
  },
  {
   "cell_type": "code",
   "execution_count": 100,
   "metadata": {},
   "outputs": [
    {
     "name": "stdout",
     "output_type": "stream",
     "text": [
      "[5 7]\n"
     ]
    }
   ],
   "source": [
    "a=np.random.randint(5,10,2) #gives 2 random ints in the range 5-10\n",
    "print(a)"
   ]
  },
  {
   "cell_type": "code",
   "execution_count": 103,
   "metadata": {},
   "outputs": [
    {
     "name": "stdout",
     "output_type": "stream",
     "text": [
      "3\n"
     ]
    }
   ],
   "source": [
    "#Randomly pick one element from array \n",
    "elem= np.random.choice([1,2,3,4])\n",
    "print(elem)"
   ]
  },
  {
   "cell_type": "markdown",
   "metadata": {},
   "source": [
    "# Stats"
   ]
  },
  {
   "cell_type": "markdown",
   "metadata": {},
   "source": [
    "(i) min, max\n",
    "(ii) mean \n",
    "(iii) median \n",
    "(iv) average \n",
    "(v) VARIANCE \n",
    "(vi) standard deviation \n"
   ]
  },
  {
   "cell_type": "code",
   "execution_count": 109,
   "metadata": {},
   "outputs": [
    {
     "name": "stdout",
     "output_type": "stream",
     "text": [
      "[[1 2 3 4]\n",
      " [7 6 2 0]]\n",
      "0\n",
      "[1 2 2 0]\n",
      "[1 0]\n"
     ]
    }
   ],
   "source": [
    "a=np.array([[1,2,3,4],[7,6,2,0]])\n",
    "print(a)\n",
    "\n",
    "#specifiy axis for direction in case of 2d array \n",
    "\n",
    "print(np.min(a)) #finds min in whole 2d array \n",
    "print(np.min(a,axis=0)) #finds min in column comparison \n",
    "print(np.min(a,axis=1)) #finds min in row comparsion "
   ]
  },
  {
   "cell_type": "code",
   "execution_count": 118,
   "metadata": {},
   "outputs": [
    {
     "name": "stdout",
     "output_type": "stream",
     "text": [
      "3.0\n",
      "3.0\n",
      "[4.  4.  2.5 2. ]\n",
      "[2.5  3.75]\n"
     ]
    }
   ],
   "source": [
    "#mean \n",
    "b= np.array([1,2,3,4,5])\n",
    "m=sum(b)/5\n",
    "print(m)\n",
    "print(np.mean(b))\n",
    "\n",
    "#specify axis properly \n",
    "print(np.mean(a, axis=0))\n",
    "print(np.mean(a, axis=1))"
   ]
  },
  {
   "cell_type": "code",
   "execution_count": 119,
   "metadata": {},
   "outputs": [
    {
     "name": "stdout",
     "output_type": "stream",
     "text": [
      "2.0\n"
     ]
    }
   ],
   "source": [
    "c=np.array([1,5,4,2,0])\n",
    "print(np.median(c))"
   ]
  },
  {
   "cell_type": "code",
   "execution_count": 122,
   "metadata": {},
   "outputs": [
    {
     "name": "stdout",
     "output_type": "stream",
     "text": [
      "2.4\n",
      "2.4\n"
     ]
    }
   ],
   "source": [
    "#Mean v.s. Average (weighted average)\n",
    "\n",
    "print(np.mean(c))\n",
    "\n",
    "#weights specifiying \n",
    "wts=np.array([1,1,1,1,1])\n",
    "print(np.average(c, weights=wts))"
   ]
  },
  {
   "cell_type": "code",
   "execution_count": 124,
   "metadata": {},
   "outputs": [
    {
     "name": "stdout",
     "output_type": "stream",
     "text": [
      "1.854723699099141\n",
      "1.854723699099141\n"
     ]
    }
   ],
   "source": [
    "#standard deviation \n",
    "\n",
    "#by formula \n",
    "#sigma= Math.sqrt(1/n * summation of (xi-mu)**2)\n",
    "\n",
    "u=np.mean(c)\n",
    "mystd= np.sqrt(np.mean(abs(c-u)**2))\n",
    "print(mystd)\n",
    "\n",
    "#inbuilt \n",
    "print(np.std(c))\n",
    "\n"
   ]
  },
  {
   "cell_type": "code",
   "execution_count": 128,
   "metadata": {},
   "outputs": [
    {
     "name": "stdout",
     "output_type": "stream",
     "text": [
      "3.440000000000001\n",
      "3.4400000000000004\n"
     ]
    }
   ],
   "source": [
    "#variance \n",
    "\n",
    "#by formula \n",
    "print(mystd**2)\n",
    "\n",
    "#by inbuilt np \n",
    "print(np.var(c))"
   ]
  },
  {
   "cell_type": "code",
   "execution_count": null,
   "metadata": {},
   "outputs": [],
   "source": []
  }
 ],
 "metadata": {
  "kernelspec": {
   "display_name": "Python 3",
   "language": "python",
   "name": "python3"
  },
  "language_info": {
   "codemirror_mode": {
    "name": "ipython",
    "version": 3
   },
   "file_extension": ".py",
   "mimetype": "text/x-python",
   "name": "python",
   "nbconvert_exporter": "python",
   "pygments_lexer": "ipython3",
   "version": "3.7.3"
  }
 },
 "nbformat": 4,
 "nbformat_minor": 2
}
